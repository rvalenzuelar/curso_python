{
 "cells": [
  {
   "cell_type": "markdown",
   "metadata": {},
   "source": [
    "## Xarray"
   ]
  },
  {
   "cell_type": "code",
   "execution_count": null,
   "metadata": {
    "collapsed": true
   },
   "outputs": [],
   "source": [
    "import xarray as xr\n",
    "import matplotlib.pyplot as plt"
   ]
  },
  {
   "cell_type": "markdown",
   "metadata": {},
   "source": [
    "### Trabajando con un archivo netCDF"
   ]
  },
  {
   "cell_type": "code",
   "execution_count": null,
   "metadata": {
    "collapsed": true
   },
   "outputs": [],
   "source": [
    "ds = xr.open_dataset('pgbh00.gdas.2008081512.nc')"
   ]
  },
  {
   "cell_type": "code",
   "execution_count": null,
   "metadata": {},
   "outputs": [],
   "source": [
    "ds"
   ]
  },
  {
   "cell_type": "code",
   "execution_count": null,
   "metadata": {},
   "outputs": [],
   "source": [
    "# accede a coordenadas\n",
    "ds.lons"
   ]
  },
  {
   "cell_type": "code",
   "execution_count": null,
   "metadata": {},
   "outputs": [],
   "source": [
    "ds.lats"
   ]
  },
  {
   "cell_type": "code",
   "execution_count": null,
   "metadata": {},
   "outputs": [],
   "source": [
    "ds.pres"
   ]
  },
  {
   "cell_type": "code",
   "execution_count": null,
   "metadata": {},
   "outputs": [],
   "source": [
    "ds.time"
   ]
  },
  {
   "cell_type": "code",
   "execution_count": null,
   "metadata": {},
   "outputs": [],
   "source": [
    "# accede a variables\n",
    "ds.pwat"
   ]
  },
  {
   "cell_type": "code",
   "execution_count": null,
   "metadata": {},
   "outputs": [],
   "source": [
    "ds.pwat.plot()"
   ]
  },
  {
   "cell_type": "code",
   "execution_count": null,
   "metadata": {},
   "outputs": [],
   "source": [
    "plt.show()"
   ]
  },
  {
   "cell_type": "code",
   "execution_count": null,
   "metadata": {},
   "outputs": [],
   "source": [
    "ds.pwat.plot(cmap='RdBu')\n",
    "plt.show()"
   ]
  },
  {
   "cell_type": "code",
   "execution_count": null,
   "metadata": {},
   "outputs": [],
   "source": [
    "ds.pwat.plot(cmap='RdBu',vmin=0,vmax=50)\n",
    "plt.show()"
   ]
  },
  {
   "cell_type": "code",
   "execution_count": null,
   "metadata": {
    "collapsed": true
   },
   "outputs": [],
   "source": [
    "# arreglemos las coordenadas de longitud\n",
    "ds['lons'] = ds['lons'] - 360"
   ]
  },
  {
   "cell_type": "code",
   "execution_count": null,
   "metadata": {},
   "outputs": [],
   "source": [
    "ds.pwat.plot(cmap='RdBu',vmin=0,vmax=50)\n",
    "plt.show()"
   ]
  },
  {
   "cell_type": "markdown",
   "metadata": {},
   "source": [
    "** creamos diccionario con opciones de configuración **"
   ]
  },
  {
   "cell_type": "code",
   "execution_count": null,
   "metadata": {
    "collapsed": true
   },
   "outputs": [],
   "source": [
    "figsetup = dict(cmap='RdBu',vmin=0,vmax=50,extend='neither')"
   ]
  },
  {
   "cell_type": "code",
   "execution_count": null,
   "metadata": {},
   "outputs": [],
   "source": [
    "ds.pwat.plot(**figsetup)\n",
    "plt.show()"
   ]
  },
  {
   "cell_type": "markdown",
   "metadata": {},
   "source": [
    "### Trabajando con múltiples archivos netCDF"
   ]
  },
  {
   "cell_type": "code",
   "execution_count": null,
   "metadata": {
    "collapsed": true
   },
   "outputs": [],
   "source": [
    "from glob import glob"
   ]
  },
  {
   "cell_type": "code",
   "execution_count": null,
   "metadata": {
    "collapsed": true
   },
   "outputs": [],
   "source": [
    "ncfiles = glob('*.nc')"
   ]
  },
  {
   "cell_type": "code",
   "execution_count": null,
   "metadata": {},
   "outputs": [],
   "source": [
    "ncfiles"
   ]
  },
  {
   "cell_type": "code",
   "execution_count": null,
   "metadata": {
    "collapsed": true
   },
   "outputs": [],
   "source": [
    "first = True\n",
    "for nc in ncfiles:\n",
    "    if first:\n",
    "        ds_all = xr.open_dataset(nc)\n",
    "        first = False\n",
    "    else:\n",
    "        ds = xr.open_dataset(nc)\n",
    "        ds_all = xr.concat([ds_all,ds], dim='time')"
   ]
  },
  {
   "cell_type": "code",
   "execution_count": null,
   "metadata": {},
   "outputs": [],
   "source": [
    "ds_all"
   ]
  },
  {
   "cell_type": "markdown",
   "metadata": {},
   "source": [
    "\n",
    "\n",
    "**Para seleccionar el índice de la dimensión: `isel`**"
   ]
  },
  {
   "cell_type": "code",
   "execution_count": null,
   "metadata": {},
   "outputs": [],
   "source": [
    "ds_all.pwat.isel(time=3).plot(**figsetup)\n",
    "plt.show()"
   ]
  },
  {
   "cell_type": "code",
   "execution_count": null,
   "metadata": {
    "collapsed": true
   },
   "outputs": [],
   "source": [
    "# arreglamos valores lons\n",
    "ds_all['lons'] -= 360"
   ]
  },
  {
   "cell_type": "code",
   "execution_count": null,
   "metadata": {},
   "outputs": [],
   "source": [
    "ds_all.pwat.isel(time=3).plot(**figsetup)\n",
    "plt.show()"
   ]
  },
  {
   "cell_type": "markdown",
   "metadata": {},
   "source": [
    "**Para seleccionar el valor de la dimensión: `sel`**"
   ]
  },
  {
   "cell_type": "code",
   "execution_count": null,
   "metadata": {
    "scrolled": true
   },
   "outputs": [],
   "source": [
    "ds_all.time"
   ]
  },
  {
   "cell_type": "code",
   "execution_count": null,
   "metadata": {},
   "outputs": [],
   "source": [
    "ds_all.pwat.sel(time='2008-08-15 12:00').plot(**figsetup)\n",
    "plt.show()"
   ]
  },
  {
   "cell_type": "markdown",
   "metadata": {},
   "source": [
    "**Podemos utilizar `sel` para hacer la figura de cada paso de tiempo**"
   ]
  },
  {
   "cell_type": "code",
   "execution_count": null,
   "metadata": {},
   "outputs": [],
   "source": [
    "for time in ds_all.time:\n",
    "    fig, ax = plt.subplots()\n",
    "    figsetup['ax'] = ax\n",
    "    ds_all.pwat.sel(time=time).plot(**figsetup)\n",
    "plt.show()"
   ]
  },
  {
   "cell_type": "markdown",
   "metadata": {},
   "source": [
    "** O Podemos utilizar el metodo faceting de xarray**"
   ]
  },
  {
   "cell_type": "code",
   "execution_count": null,
   "metadata": {
    "collapsed": true
   },
   "outputs": [],
   "source": [
    "figsetup = dict(cmap='RdBu',vmin=0,vmax=50,extend='neither')\n",
    "figsetup['x'] = 'lons'\n",
    "figsetup['y'] = 'lats'\n",
    "figsetup['col'] = 'time'  # <- faceting\n",
    "figsetup['col_wrap'] = 2"
   ]
  },
  {
   "cell_type": "code",
   "execution_count": null,
   "metadata": {},
   "outputs": [],
   "source": [
    "figsetup"
   ]
  },
  {
   "cell_type": "code",
   "execution_count": null,
   "metadata": {},
   "outputs": [],
   "source": [
    "ds_all.pwat.plot(**figsetup)\n",
    "plt.show()"
   ]
  },
  {
   "cell_type": "code",
   "execution_count": null,
   "metadata": {},
   "outputs": [],
   "source": [
    "ds_all.pwat.plot.contourf(**figsetup)\n",
    "plt.show()"
   ]
  },
  {
   "cell_type": "code",
   "execution_count": null,
   "metadata": {},
   "outputs": [],
   "source": [
    "ds_all.pwat.plot.contour(**figsetup)\n",
    "plt.show()"
   ]
  },
  {
   "cell_type": "markdown",
   "metadata": {},
   "source": [
    "### Agregando lineas costeras y limites geopolíticos"
   ]
  },
  {
   "cell_type": "code",
   "execution_count": null,
   "metadata": {
    "collapsed": true
   },
   "outputs": [],
   "source": [
    "import cartopy.crs as ccrs\n",
    "import cartopy\n",
    "from cartopy.mpl.gridliner import LONGITUDE_FORMATTER, LATITUDE_FORMATTER"
   ]
  },
  {
   "cell_type": "code",
   "execution_count": null,
   "metadata": {},
   "outputs": [],
   "source": [
    "figsetup"
   ]
  },
  {
   "cell_type": "code",
   "execution_count": null,
   "metadata": {
    "collapsed": true
   },
   "outputs": [],
   "source": [
    "figsetup['transform'] = ccrs.PlateCarree()\n",
    "figsetup['subplot_kws'] = {'projection': ccrs.PlateCarree()}"
   ]
  },
  {
   "cell_type": "code",
   "execution_count": null,
   "metadata": {},
   "outputs": [],
   "source": [
    "figsetup"
   ]
  },
  {
   "cell_type": "code",
   "execution_count": null,
   "metadata": {},
   "outputs": [],
   "source": [
    "ds_all.pwat.plot(**figsetup)\n",
    "plt.show()"
   ]
  },
  {
   "cell_type": "code",
   "execution_count": null,
   "metadata": {},
   "outputs": [],
   "source": [
    "plot_handle = ds_all.pwat.plot(**figsetup);\n",
    "\n",
    "# opciones para la grilla\n",
    "gl_setup = dict(crs=ccrs.PlateCarree(), \n",
    "                  draw_labels=False,\n",
    "                  linewidth=2, \n",
    "                  color='gray', \n",
    "                  alpha=0.5, \n",
    "                  linestyle='--')\n",
    "\n",
    "for ax in plot_handle.axes.flat:\n",
    "    ax.add_feature(cartopy.feature.BORDERS)\n",
    "    ax.add_feature(cartopy.feature.COASTLINE)\n",
    "    ax.set_extent([-100, -65, -45, -15]) # utilizar extent en lugar de xlim/ylim\n",
    "    ax.set_aspect('equal','box-forced')  # <- obligatorio\n",
    "    \n",
    "    # formato de grilla lat/lon\n",
    "    gl = ax.gridlines(**gl_setup)\n",
    "    gl.xlabels_bottom = True\n",
    "    gl.ylabels_left = True\n",
    "    gl.xformatter = LONGITUDE_FORMATTER\n",
    "    gl.yformatter = LATITUDE_FORMATTER\n",
    "    \n",
    "plt.show()"
   ]
  },
  {
   "cell_type": "markdown",
   "metadata": {},
   "source": [
    "** usar `enumerate` para arreglar axis individuales **"
   ]
  },
  {
   "cell_type": "code",
   "execution_count": null,
   "metadata": {
    "collapsed": true
   },
   "outputs": [],
   "source": [
    "plot_handle = ds_all.pwat.plot(**figsetup);\n",
    "\n",
    "gl_setup = dict(crs=ccrs.PlateCarree(), \n",
    "              draw_labels=False,\n",
    "              linewidth=2, \n",
    "              color='gray', \n",
    "              alpha=0.5, \n",
    "              linestyle='--')\n",
    "\n",
    "for n, ax in enumerate(plot_handle.axes.flat):  # <- enumerate\n",
    "    ax.add_feature(cartopy.feature.BORDERS)\n",
    "    ax.add_feature(cartopy.feature.COASTLINE)\n",
    "    ax.set_extent([-100, -65, -45, -15]) # utilizar extent en lugar de xlim/ylim\n",
    "    ax.set_aspect('equal','box-forced')  # <- obligatorio\n",
    "    \n",
    "    # formato de grilla lat/lon\n",
    "    gl = ax.gridlines(**gl_setup)\n",
    "    if n in [0,2]:\n",
    "        gl.ylabels_left = True\n",
    "    elif n == 4:\n",
    "        gl.xlabels_bottom = True\n",
    "        gl.ylabels_left = True            \n",
    "    gl.xformatter = LONGITUDE_FORMATTER\n",
    "    gl.yformatter = LATITUDE_FORMATTER\n",
    "\n",
    "plt.show()"
   ]
  },
  {
   "cell_type": "code",
   "execution_count": null,
   "metadata": {
    "collapsed": true
   },
   "outputs": [],
   "source": []
  }
 ],
 "metadata": {
  "anaconda-cloud": {},
  "kernelspec": {
   "display_name": "Python 2",
   "language": "python",
   "name": "python2"
  },
  "language_info": {
   "codemirror_mode": {
    "name": "ipython",
    "version": 2
   },
   "file_extension": ".py",
   "mimetype": "text/x-python",
   "name": "python",
   "nbconvert_exporter": "python",
   "pygments_lexer": "ipython2",
   "version": "2.7.13"
  }
 },
 "nbformat": 4,
 "nbformat_minor": 2
}
