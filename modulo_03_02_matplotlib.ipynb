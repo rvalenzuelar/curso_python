{
 "cells": [
  {
   "cell_type": "markdown",
   "metadata": {},
   "source": [
    "## Matplotlib"
   ]
  },
  {
   "cell_type": "code",
   "execution_count": null,
   "metadata": {
    "collapsed": true
   },
   "outputs": [],
   "source": [
    "import matplotlib.pyplot as plt"
   ]
  },
  {
   "cell_type": "markdown",
   "metadata": {
    "collapsed": true
   },
   "source": [
    "### 1. Figuras"
   ]
  },
  {
   "cell_type": "code",
   "execution_count": null,
   "metadata": {
    "collapsed": true
   },
   "outputs": [],
   "source": [
    "fig = plt.figure()  # cramos figura"
   ]
  },
  {
   "cell_type": "code",
   "execution_count": null,
   "metadata": {
    "collapsed": true
   },
   "outputs": [],
   "source": [
    "ax = plt.axes()  # creamos axes"
   ]
  },
  {
   "cell_type": "code",
   "execution_count": null,
   "metadata": {},
   "outputs": [],
   "source": [
    "type(fig)"
   ]
  },
  {
   "cell_type": "code",
   "execution_count": null,
   "metadata": {},
   "outputs": [],
   "source": [
    "type(ax)"
   ]
  },
  {
   "cell_type": "code",
   "execution_count": null,
   "metadata": {},
   "outputs": [],
   "source": [
    "fig.add_axes(ax)  # método para agregar axes a la figura"
   ]
  },
  {
   "cell_type": "code",
   "execution_count": null,
   "metadata": {},
   "outputs": [],
   "source": [
    "plt.show() # despliega figura"
   ]
  },
  {
   "cell_type": "code",
   "execution_count": null,
   "metadata": {
    "collapsed": true
   },
   "outputs": [],
   "source": [
    "fig, ax = plt.subplots() # crea figura y axes en un solo llamado"
   ]
  },
  {
   "cell_type": "code",
   "execution_count": null,
   "metadata": {},
   "outputs": [],
   "source": [
    "plt.show()"
   ]
  },
  {
   "cell_type": "code",
   "execution_count": null,
   "metadata": {},
   "outputs": [],
   "source": [
    "fig, ax = plt.subplots()\n",
    "ax.set_xlabel('eje_x')\n",
    "ax.set_ylabel('eje_y')\n",
    "ax.set_title('titulo de figura')\n",
    "plt.show()"
   ]
  },
  {
   "cell_type": "markdown",
   "metadata": {},
   "source": [
    "### 2. Métodos de axes"
   ]
  },
  {
   "cell_type": "code",
   "execution_count": null,
   "metadata": {
    "collapsed": true
   },
   "outputs": [],
   "source": [
    "x = range(10)"
   ]
  },
  {
   "cell_type": "code",
   "execution_count": null,
   "metadata": {
    "scrolled": true
   },
   "outputs": [],
   "source": [
    "fig, ax = plt.subplots()\n",
    "ax.plot(x, marker='o')\n",
    "plt.show()"
   ]
  },
  {
   "cell_type": "code",
   "execution_count": null,
   "metadata": {
    "scrolled": true
   },
   "outputs": [],
   "source": [
    "y = range(-10,10,2)\n",
    "fig, ax = plt.subplots()\n",
    "ax.plot(x, y, marker='o')\n",
    "plt.show()"
   ]
  },
  {
   "cell_type": "code",
   "execution_count": null,
   "metadata": {
    "collapsed": true
   },
   "outputs": [],
   "source": [
    "import numpy as np"
   ]
  },
  {
   "cell_type": "code",
   "execution_count": null,
   "metadata": {
    "collapsed": true
   },
   "outputs": [],
   "source": [
    "x = np.linspace(0, 2*np.pi, 30)\n",
    "y = np.sin(x)"
   ]
  },
  {
   "cell_type": "code",
   "execution_count": null,
   "metadata": {},
   "outputs": [],
   "source": [
    "fig, ax = plt.subplots()\n",
    "ax.scatter(x, y, marker='o')\n",
    "plt.show()"
   ]
  },
  {
   "cell_type": "code",
   "execution_count": null,
   "metadata": {
    "scrolled": true
   },
   "outputs": [],
   "source": [
    "fig, ax = plt.subplots()\n",
    "ax.scatter(x, y, marker='o', color='red')\n",
    "ax.axhline(y=0, linestyle=':', color='black')\n",
    "plt.show()"
   ]
  },
  {
   "cell_type": "code",
   "execution_count": null,
   "metadata": {
    "collapsed": true
   },
   "outputs": [],
   "source": [
    "x = np.linspace(-np.pi, np.pi, 100)\n",
    "sin = np.sin(x) # noten que nombre 'sin' no interfiere con función 'sin'\n",
    "cos = np.cos(x)"
   ]
  },
  {
   "cell_type": "code",
   "execution_count": null,
   "metadata": {
    "scrolled": false
   },
   "outputs": [],
   "source": [
    "fig, ax = plt.subplots()\n",
    "ax.plot(x, sin, color='red', label='sin')\n",
    "ax.plot(x, cos, color='green', label='cos')\n",
    "ax.axhline(y=0, linestyle=':', color='black')\n",
    "ax.legend()\n",
    "plt.show()"
   ]
  },
  {
   "cell_type": "code",
   "execution_count": null,
   "metadata": {},
   "outputs": [],
   "source": [
    "fig, ax = plt.subplots()\n",
    "ax.plot(x, sin, color='red', label='sin')\n",
    "ax.plot(x, cos, color='green', label='cos')\n",
    "ax.set_xticks([-np.pi, -np.pi/2, 0, np.pi/2, np.pi])\n",
    "ax.set_xticklabels(['$-\\pi$', '$-\\pi/2$', '$0$', '$+\\pi/2$', '$+\\pi$'])\n",
    "ax.set_yticks([-1, 0, +1])\n",
    "ax.set_yticklabels([r'$-1$', r'$0$', r'$+1$'])\n",
    "ax.legend()\n",
    "plt.show()"
   ]
  },
  {
   "cell_type": "code",
   "execution_count": null,
   "metadata": {},
   "outputs": [],
   "source": [
    "fig, ax = plt.subplots()\n",
    "ax.plot(x, sin, color='red', label='sin')\n",
    "ax.plot(x, cos, color='green', label='cos')\n",
    "ax.set_xticks([-np.pi, -np.pi/2, 0, np.pi/2, np.pi])\n",
    "ax.set_xticklabels(['$-\\pi$', '$-\\pi/2$', '$0$', '$+\\pi/2$', '$+\\pi$'])\n",
    "ax.set_yticks([-1, 0, +1])\n",
    "ax.set_yticklabels([r'$-1$', r'$0$', r'$+1$'])\n",
    "\n",
    "# mueve ejes\n",
    "ax.spines['right'].set_color('none')\n",
    "ax.spines['top'].set_color('none')\n",
    "ax.spines['bottom'].set_position(('data', 0))\n",
    "ax.spines['left'].set_position(('data', 0))\n",
    "ax.legend()\n",
    "plt.show()"
   ]
  },
  {
   "cell_type": "code",
   "execution_count": null,
   "metadata": {},
   "outputs": [],
   "source": [
    "loc = np.arange(5)\n",
    "val = np.arange(5)*10\n",
    "wdt = 0.5\n",
    "fig, ax = plt.subplots()\n",
    "ax.bar(loc, val, wdt)\n",
    "plt.show()"
   ]
  },
  {
   "cell_type": "code",
   "execution_count": null,
   "metadata": {},
   "outputs": [],
   "source": [
    "mu = 100\n",
    "sigma = 15\n",
    "x = mu + sigma * np.random.randn(10000)\n",
    "nbins = 50\n",
    "\n",
    "fig, ax = plt.subplots()\n",
    "n, bins, patches = ax.hist(x, nbins, normed=1, facecolor='g', alpha=0.75)\n",
    "\n",
    "print n\n",
    "print bins\n",
    "print patches\n",
    "\n",
    "ax.set_xlabel('valores')\n",
    "ax.set_ylabel('probabilidad')\n",
    "ax.set_title('Histograma de valores')\n",
    "ax.text(60, .025, r'$\\mu=100,\\ \\sigma=15$') # anotación\n",
    "ax.set_xlim([40, 160])\n",
    "ax.set_ylim([0, 0.03])\n",
    "ax.grid(True)\n",
    "plt.show()"
   ]
  },
  {
   "cell_type": "markdown",
   "metadata": {},
   "source": [
    "## 3. subplots"
   ]
  },
  {
   "cell_type": "code",
   "execution_count": null,
   "metadata": {},
   "outputs": [],
   "source": [
    "x = np.arange(0.0, 5.0, 0.1)\n",
    "pi = np.pi\n",
    "func1 = lambda x: np.exp(-x) * np.cos(2*pi*x)\n",
    "func2 = lambda x: np.cos(2*pi*x)\n",
    "y1 = func1(x)\n",
    "y2 = func2(x)\n",
    "\n",
    "# creamos figuras\n",
    "fig, axs = plt.subplots(2,1)\n",
    "axs[0].plot(x,y1,'-o')\n",
    "axs[1].plot(x,y2,'-o',color='r')\n",
    "plt.show()"
   ]
  },
  {
   "cell_type": "code",
   "execution_count": null,
   "metadata": {},
   "outputs": [],
   "source": [
    "fig, axs = plt.subplots(2,1, sharex=True)  # comparte x-axis\n",
    "axs[0].plot(x,y1,'-o')\n",
    "axs[1].plot(x,y2,'-o',color='r')\n",
    "plt.show()"
   ]
  },
  {
   "cell_type": "code",
   "execution_count": null,
   "metadata": {},
   "outputs": [],
   "source": [
    "# comparte x-axis e y-axis\n",
    "fig, axs = plt.subplots(2,2, sharex=True, sharey=True)  \n",
    "\n",
    "axs[0,0].plot(x,y1,':', color='g')\n",
    "axs[0,1].plot(x,y1,'-.', color='b')\n",
    "axs[1,0].plot(x,y1,'-d', color='y')\n",
    "axs[1,1].plot(x,y1,'--', color='r')\n",
    "\n",
    "axs[0,0].set_ylabel('ylabel')\n",
    "axs[1,0].set_xlabel('xlabel')\n",
    "\n",
    "plt.show()"
   ]
  },
  {
   "cell_type": "code",
   "execution_count": null,
   "metadata": {},
   "outputs": [],
   "source": [
    "# aumenta figsize\n",
    "fig, axs = plt.subplots(2,2, figsize=(10,8), \n",
    "                        sharex=True, sharey=True)  \n",
    "\n",
    "axs[0,0].plot(x,y1,':', color='g')\n",
    "axs[0,1].plot(x,y1,'-.', color='b')\n",
    "axs[1,0].plot(x,y1,'-d', color='y')\n",
    "axs[1,1].plot(x,y1,'--', color='r')\n",
    "\n",
    "axs[0,0].set_ylabel('ylabel', fontsize=15)\n",
    "axs[1,0].set_xlabel('xlabel', fontsize=15)\n",
    "\n",
    "plt.tight_layout()\n",
    "plt.show()"
   ]
  },
  {
   "cell_type": "code",
   "execution_count": null,
   "metadata": {},
   "outputs": [],
   "source": [
    "fig, axs = plt.subplots(2,2, figsize=(10,8), \n",
    "                        sharex=True, sharey=True)\n",
    "\n",
    "axs = axs.flatten() # <- utilizamos 1D array en lugar de 2D\n",
    "axs[0].plot(x,y1,':', color='g')\n",
    "axs[1].plot(x,y1,'-.', color='b')\n",
    "axs[2].plot(x,y1,'-d', color='y')\n",
    "axs[3].plot(x,y1,'--', color='r')\n",
    "\n",
    "axs[0].set_ylabel('ylabel', fontsize=15)\n",
    "axs[2].set_xlabel('xlabel', fontsize=15)\n",
    "\n",
    "plt.tight_layout()\n",
    "plt.show()"
   ]
  },
  {
   "cell_type": "markdown",
   "metadata": {},
   "source": [
    "El método rcParams permite definir parametros por defecto para nuestras figuras. Un lista completa se encuentra aquí:\n",
    "\n",
    "https://matplotlib.org/users/customizing.html"
   ]
  },
  {
   "cell_type": "code",
   "execution_count": null,
   "metadata": {},
   "outputs": [],
   "source": [
    "import matplotlib as mpl\n",
    "mpl.rcParams['xtick.labelsize'] = 15\n",
    "mpl.rcParams['ytick.labelsize'] = 15\n",
    "mpl.rcParams['axes.labelsize'] = 15"
   ]
  },
  {
   "cell_type": "code",
   "execution_count": null,
   "metadata": {},
   "outputs": [],
   "source": [
    "fig, axs = plt.subplots(2,2, figsize=(10,8), \n",
    "                        sharex=True, sharey=True)\n",
    "\n",
    "axs = axs.flatten()\n",
    "\n",
    "line_sty = [':','-.','-','--']\n",
    "line_col = ['g','b','y','r']\n",
    "\n",
    "for ax, st, co in zip(axs, line_sty, line_col):\n",
    "    ax.plot(x, y1, st, color=co, lw=4)\n",
    "\n",
    "axs[0].set_ylabel('ylabel')\n",
    "axs[2].set_xlabel('xlabel')\n",
    "\n",
    "plt.tight_layout()\n",
    "plt.show()"
   ]
  },
  {
   "cell_type": "markdown",
   "metadata": {
    "collapsed": true
   },
   "source": [
    "### 4. 2D plot"
   ]
  },
  {
   "cell_type": "code",
   "execution_count": null,
   "metadata": {
    "collapsed": true
   },
   "outputs": [],
   "source": [
    "func = lambda x,y: (1 - x/2 + x**5 + y**3)*np.exp(-x**2 - y**2)"
   ]
  },
  {
   "cell_type": "code",
   "execution_count": null,
   "metadata": {
    "collapsed": true
   },
   "outputs": [],
   "source": [
    "# creamos grilla\n",
    "n = 300\n",
    "x = np.linspace(-3, 3, n)\n",
    "y = np.linspace(-3, 3, n)\n",
    "X, Y = np.meshgrid(x,y)\n",
    "Z = func(X, Y)"
   ]
  },
  {
   "cell_type": "markdown",
   "metadata": {},
   "source": [
    "** `Contourf` y `contour` **"
   ]
  },
  {
   "cell_type": "code",
   "execution_count": null,
   "metadata": {},
   "outputs": [],
   "source": [
    "fig, ax = plt.subplots()\n",
    "ax.contourf(X, Y, Z, 8, alpha=.75, cmap='RdBu')\n",
    "plt.show()"
   ]
  },
  {
   "cell_type": "code",
   "execution_count": null,
   "metadata": {},
   "outputs": [],
   "source": [
    "fig, ax = plt.subplots()\n",
    "ax.contourf(X, Y, Z, 8, alpha=.75, cmap='RdBu')\n",
    "ax.contour(X, Y, Z, 8, colors='black', linewidth=.5)\n",
    "plt.show()"
   ]
  },
  {
   "cell_type": "code",
   "execution_count": null,
   "metadata": {},
   "outputs": [],
   "source": [
    "fig, ax = plt.subplots()\n",
    "\n",
    "cf = ax.contourf(X, Y, Z, 8, alpha=.75, cmap='RdBu')\n",
    "c = ax.contour(X, Y, Z, 8, colors='black', linewidth=.5)\n",
    "\n",
    "ax.set_xlabel('X')\n",
    "ax.set_ylabel('Y')\n",
    "\n",
    "# agrega etiquetas de contorno\n",
    "plt.clabel(c, fontsize=10)\n",
    "\n",
    "# agrega colorbar\n",
    "plt.colorbar(cf, label='[unidades]') # <- debemos \n",
    "                                     # entregarle un 'mappable'\n",
    "\n",
    "plt.show()"
   ]
  },
  {
   "cell_type": "markdown",
   "metadata": {},
   "source": [
    "**`imshow`**"
   ]
  },
  {
   "cell_type": "code",
   "execution_count": null,
   "metadata": {},
   "outputs": [],
   "source": [
    "# destinado para imágenes, no considera grilla\n",
    "fig, ax = plt.subplots()\n",
    "im = ax.imshow(Z)\n",
    "plt.colorbar(im)\n",
    "plt.show()"
   ]
  },
  {
   "cell_type": "markdown",
   "metadata": {},
   "source": [
    "**`pcolor` y `pcolormesh`**"
   ]
  },
  {
   "cell_type": "code",
   "execution_count": null,
   "metadata": {},
   "outputs": [],
   "source": [
    "# considera grilla\n",
    "fig, ax = plt.subplots()\n",
    "pc = ax.pcolor(X, Y, Z)\n",
    "plt.colorbar(pc)\n",
    "plt.show()"
   ]
  },
  {
   "cell_type": "code",
   "execution_count": null,
   "metadata": {},
   "outputs": [],
   "source": [
    "fig, ax = plt.subplots()\n",
    "pc = ax.pcolormesh(X,Y,Z)\n",
    "plt.colorbar(pc)\n",
    "plt.show()"
   ]
  },
  {
   "cell_type": "markdown",
   "metadata": {},
   "source": [
    "diferencia pcolor y pcolormesh:\n",
    "pcolormesh es más rápido\n",
    "\n",
    "diferencia imshow y pcolormesh:\n",
    "*imshow sigue convención de procesamiento de imágenes: origen en esquina superior izquierda; pcolormesh usa esquina inferior izquierda o definido por grilla.\n",
    "\n",
    "*posicion de pixel: imshow centrado y pcolormesh entre valores de grilla\n"
   ]
  },
  {
   "cell_type": "markdown",
   "metadata": {},
   "source": [
    "**`quiver`**"
   ]
  },
  {
   "cell_type": "code",
   "execution_count": null,
   "metadata": {},
   "outputs": [],
   "source": [
    "fig, ax = plt.subplots()\n",
    "n = 8\n",
    "X,Y = np.mgrid[0:n,0:n]\n",
    "T = np.arctan2(Y-n/2.0, X-n/2.0)\n",
    "R = 10+np.sqrt((Y-n/2.0)**2+(X-n/2.0)**2)\n",
    "U,V = R*np.cos(T), R*np.sin(T)\n",
    "ax.quiver(X,Y,U,V)\n",
    "plt.show()"
   ]
  },
  {
   "cell_type": "code",
   "execution_count": null,
   "metadata": {},
   "outputs": [],
   "source": [
    "fig, ax = plt.subplots()\n",
    "n = 8\n",
    "X,Y = np.mgrid[0:n,0:n]\n",
    "T = np.arctan2(Y-n/2.0, X-n/2.0)\n",
    "R = 10+np.sqrt((Y-n/2.0)**2+(X-n/2.0)**2)\n",
    "U,V = R*np.cos(T), R*np.sin(T)\n",
    "qv = ax.quiver(X,Y,U,V,R)\n",
    "plt.colorbar(qv)\n",
    "plt.show()"
   ]
  },
  {
   "cell_type": "code",
   "execution_count": null,
   "metadata": {
    "collapsed": true
   },
   "outputs": [],
   "source": []
  }
 ],
 "metadata": {
  "kernelspec": {
   "display_name": "Python 2",
   "language": "python",
   "name": "python2"
  },
  "language_info": {
   "codemirror_mode": {
    "name": "ipython",
    "version": 2
   },
   "file_extension": ".py",
   "mimetype": "text/x-python",
   "name": "python",
   "nbconvert_exporter": "python",
   "pygments_lexer": "ipython2",
   "version": "2.7.13"
  }
 },
 "nbformat": 4,
 "nbformat_minor": 2
}
