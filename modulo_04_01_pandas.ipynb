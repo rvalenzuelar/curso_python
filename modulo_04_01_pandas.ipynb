{
 "cells": [
  {
   "cell_type": "markdown",
   "metadata": {},
   "source": [
    "## Pandas"
   ]
  },
  {
   "cell_type": "code",
   "execution_count": 1,
   "metadata": {
    "collapsed": true
   },
   "outputs": [],
   "source": [
    "import pandas as pd\n",
    "import numpy as np\n",
    "import matplotlib.pyplot as plt"
   ]
  },
  {
   "cell_type": "markdown",
   "metadata": {},
   "source": [
    "### 1. Series"
   ]
  },
  {
   "cell_type": "markdown",
   "metadata": {
    "collapsed": true
   },
   "source": [
    "Las series corresponden a arreglos del tipo:\n",
    "\n",
    "|Índice|Valor\n",
    "|---|---\n",
    "|0|y(0)\n",
    "|1|y(1)\n",
    "|...|...\n",
    "|n|y(n)"
   ]
  },
  {
   "cell_type": "code",
   "execution_count": 2,
   "metadata": {},
   "outputs": [],
   "source": [
    "# crea una serie\n",
    "sr = pd.Series(np.arange(2.0, 3.0, 0.2))"
   ]
  },
  {
   "cell_type": "code",
   "execution_count": 3,
   "metadata": {},
   "outputs": [
    {
     "data": {
      "text/plain": [
       "0    2.0\n",
       "1    2.2\n",
       "2    2.4\n",
       "3    2.6\n",
       "4    2.8\n",
       "dtype: float64"
      ]
     },
     "execution_count": 3,
     "metadata": {},
     "output_type": "execute_result"
    }
   ],
   "source": [
    "sr"
   ]
  },
  {
   "cell_type": "code",
   "execution_count": 4,
   "metadata": {},
   "outputs": [
    {
     "data": {
      "text/plain": [
       "2.4000000000000004"
      ]
     },
     "execution_count": 4,
     "metadata": {},
     "output_type": "execute_result"
    }
   ],
   "source": [
    "# accede por fila\n",
    "sr[2]"
   ]
  },
  {
   "cell_type": "code",
   "execution_count": 5,
   "metadata": {},
   "outputs": [
    {
     "data": {
      "text/plain": [
       "2.4000000000000004"
      ]
     },
     "execution_count": 5,
     "metadata": {},
     "output_type": "execute_result"
    }
   ],
   "source": [
    "# accede por indice de localizador\n",
    "sr.iloc[2]"
   ]
  },
  {
   "cell_type": "code",
   "execution_count": 6,
   "metadata": {},
   "outputs": [
    {
     "data": {
      "text/plain": [
       "2.4000000000000004"
      ]
     },
     "execution_count": 6,
     "metadata": {},
     "output_type": "execute_result"
    }
   ],
   "source": [
    "# acceded por localizador\n",
    "sr.loc[2]"
   ]
  },
  {
   "cell_type": "markdown",
   "metadata": {},
   "source": [
    "Método **`date_range`** genera rango de fechas\n",
    "(más detalles en https://pandas.pydata.org/pandas-docs/stable/generated/pandas.date_range.html)"
   ]
  },
  {
   "cell_type": "code",
   "execution_count": null,
   "metadata": {
    "scrolled": true
   },
   "outputs": [],
   "source": [
    "pd.date_range('2017-08-01 00:00',periods=5, freq='1d')"
   ]
  },
  {
   "cell_type": "code",
   "execution_count": null,
   "metadata": {
    "collapsed": true
   },
   "outputs": [],
   "source": [
    "index = pd.date_range('2017-08-01 00:00',periods=5, freq='1d')"
   ]
  },
  {
   "cell_type": "code",
   "execution_count": null,
   "metadata": {
    "collapsed": true
   },
   "outputs": [],
   "source": [
    "sr2 = pd.Series(index=index, data=np.arange(2.0,3.0,0.2))"
   ]
  },
  {
   "cell_type": "code",
   "execution_count": null,
   "metadata": {},
   "outputs": [],
   "source": [
    "sr2"
   ]
  },
  {
   "cell_type": "code",
   "execution_count": null,
   "metadata": {},
   "outputs": [],
   "source": [
    "# si la frequencia es cada 5 segundos\n",
    "index = pd.date_range('2017-08-01 00:00',periods=5, freq='5s')\n",
    "sr2 = pd.Series(index=index, data=np.arange(2.0,3.0,0.2))\n",
    "sr2"
   ]
  },
  {
   "cell_type": "code",
   "execution_count": null,
   "metadata": {},
   "outputs": [],
   "source": [
    "# accede por fila\n",
    "sr2[2]"
   ]
  },
  {
   "cell_type": "code",
   "execution_count": null,
   "metadata": {},
   "outputs": [],
   "source": [
    "# accede por indice de localizador\n",
    "sr2.iloc[2]"
   ]
  },
  {
   "cell_type": "code",
   "execution_count": null,
   "metadata": {},
   "outputs": [],
   "source": [
    "# accede por localizador\n",
    "sr2.loc[2]"
   ]
  },
  {
   "cell_type": "code",
   "execution_count": null,
   "metadata": {},
   "outputs": [],
   "source": [
    "sr"
   ]
  },
  {
   "cell_type": "code",
   "execution_count": null,
   "metadata": {},
   "outputs": [],
   "source": [
    "sr2"
   ]
  },
  {
   "cell_type": "code",
   "execution_count": null,
   "metadata": {},
   "outputs": [],
   "source": [
    "# accede por localizador\n",
    "sr2.loc['2017-08-01 00:00:10']"
   ]
  },
  {
   "cell_type": "markdown",
   "metadata": {},
   "source": [
    "### 2. Dataframes"
   ]
  },
  {
   "cell_type": "markdown",
   "metadata": {},
   "source": [
    "Los Dataframes corresponden a arreglos del tipo:\n",
    "\n",
    "|Índice|Valor_0|Valor_1|...|Valor_m\n",
    "|---|---|---|---|---\n",
    "|0|y(0,0)|y(0,1)|...|y(0,m)\n",
    "|1|y(1,0)|y(1,1)|...|y(1,m)\n",
    "|...|...|...|...|...\n",
    "|n|y(n,0)|y(0,1)|...|y(n,m)"
   ]
  },
  {
   "cell_type": "code",
   "execution_count": null,
   "metadata": {},
   "outputs": [],
   "source": [
    "# es conveniente crear un diccionario para crear el dataframe\n",
    "\n",
    "n = 10\n",
    "t = np.arange(10)\n",
    "\n",
    "temp = 14.5 - np.sin(2*np.pi*t/n)\n",
    "pres = 1008.3 - 0.3*np.sin(np.pi*t/n + 0.9)\n",
    "\n",
    "precip = np.zeros(n)\n",
    "precip[2:4] = 2\n",
    "\n",
    "data = {'temp':temp,\n",
    "        'pres':pres,\n",
    "        'precip':precip}\n",
    "\n",
    "index = pd.date_range('2017-08-01 00:00',periods=10, freq='30min')"
   ]
  },
  {
   "cell_type": "code",
   "execution_count": null,
   "metadata": {
    "collapsed": true
   },
   "outputs": [],
   "source": [
    "df = pd.DataFrame(index=index, data=data)"
   ]
  },
  {
   "cell_type": "code",
   "execution_count": null,
   "metadata": {},
   "outputs": [],
   "source": [
    "print df"
   ]
  },
  {
   "cell_type": "markdown",
   "metadata": {},
   "source": [
    "### 3. Explorando Dataframes"
   ]
  },
  {
   "cell_type": "code",
   "execution_count": null,
   "metadata": {},
   "outputs": [],
   "source": [
    "df.plot(kind='bar',y='precip')\n",
    "plt.show()"
   ]
  },
  {
   "cell_type": "code",
   "execution_count": null,
   "metadata": {},
   "outputs": [],
   "source": [
    "df.plot(kind='line',y='temp')\n",
    "plt.show()"
   ]
  },
  {
   "cell_type": "code",
   "execution_count": null,
   "metadata": {},
   "outputs": [],
   "source": [
    "df.plot(kind='line',y='pres')\n",
    "plt.show()"
   ]
  },
  {
   "cell_type": "code",
   "execution_count": null,
   "metadata": {},
   "outputs": [],
   "source": [
    "\"\"\"\n",
    "    integrando visualizacion 1\n",
    "\"\"\" \n",
    "\n",
    "# crea figura\n",
    "fig, ax = plt.subplots()\n",
    "\n",
    "# utiliza metodo de pandas\n",
    "lns1 = df.plot(kind='line',\n",
    "               y='temp', \n",
    "               legend=False, \n",
    "               ax=ax)\n",
    "\n",
    "# crea eje secundario X\n",
    "ax2 = ax.twinx()\n",
    "\n",
    "# utiliza metodo de pandas\n",
    "lns2 = df.plot(kind='line',\n",
    "               y='pres', \n",
    "               legend=False, \n",
    "               color='orange',\n",
    "               ax=ax2)\n",
    "\n",
    "# crea eje secundario Y\n",
    "ax3 = ax.twiny()\n",
    "\n",
    "# utiliza metodo de pandas\n",
    "lns3 = df.plot(kind='bar',\n",
    "               y='precip', \n",
    "               legend=False, \n",
    "               ax=ax3)\n",
    "\n",
    "# etiquetas\n",
    "ax.set_ylabel('temp')\n",
    "ax2.set_ylabel('pres')\n",
    "ax3.set_xticklabels('')\n",
    "\n",
    "# agrega legenda\n",
    "lns = lns1.lines + lns2.lines + lns3.patches\n",
    "labs = ['temp','pres','precip']\n",
    "ax2.legend(lns, labs, loc=4)\n",
    "\n",
    "plt.show()\n"
   ]
  },
  {
   "cell_type": "markdown",
   "metadata": {},
   "source": [
    "### 4. Slicing"
   ]
  },
  {
   "cell_type": "code",
   "execution_count": null,
   "metadata": {},
   "outputs": [],
   "source": [
    "# recordando la estructura\n",
    "print df"
   ]
  },
  {
   "cell_type": "code",
   "execution_count": null,
   "metadata": {},
   "outputs": [],
   "source": [
    "# accede por fila (error)\n",
    "df[4]"
   ]
  },
  {
   "cell_type": "code",
   "execution_count": null,
   "metadata": {},
   "outputs": [],
   "source": [
    "# accede por indice de localizador\n",
    "df.iloc[4]"
   ]
  },
  {
   "cell_type": "code",
   "execution_count": null,
   "metadata": {},
   "outputs": [],
   "source": [
    "# accede por localizador\n",
    "df.loc['2017-08-01 02:00']"
   ]
  },
  {
   "cell_type": "code",
   "execution_count": null,
   "metadata": {},
   "outputs": [],
   "source": [
    "df.index"
   ]
  },
  {
   "cell_type": "code",
   "execution_count": null,
   "metadata": {},
   "outputs": [],
   "source": [
    "# devuelve posicion del índice\n",
    "df.index.get_loc('2017-08-01 02:00:00')"
   ]
  },
  {
   "cell_type": "code",
   "execution_count": null,
   "metadata": {},
   "outputs": [],
   "source": [
    "# devuelve columna como serie\n",
    "df['pres']"
   ]
  },
  {
   "cell_type": "code",
   "execution_count": null,
   "metadata": {},
   "outputs": [],
   "source": [
    "type(df['pres'])"
   ]
  },
  {
   "cell_type": "code",
   "execution_count": null,
   "metadata": {},
   "outputs": [],
   "source": [
    "print df[['pres','precip']]"
   ]
  },
  {
   "cell_type": "code",
   "execution_count": null,
   "metadata": {},
   "outputs": [],
   "source": [
    "# iloc es el método que normalmente usamos con arrgelos n-dimensionales\n",
    "print df.iloc[:,:2]"
   ]
  },
  {
   "cell_type": "code",
   "execution_count": null,
   "metadata": {},
   "outputs": [],
   "source": [
    "df.iloc[4,:2]"
   ]
  },
  {
   "cell_type": "code",
   "execution_count": null,
   "metadata": {},
   "outputs": [],
   "source": [
    "df.loc['2017-08-01 01:00:00'][['precip','pres']]"
   ]
  },
  {
   "cell_type": "code",
   "execution_count": null,
   "metadata": {},
   "outputs": [],
   "source": [
    "beg = '2017-08-01 03:30:00'\n",
    "end = '2017-08-01 04:30:00'\n",
    "print df.loc[beg:end]"
   ]
  }
 ],
 "metadata": {
  "anaconda-cloud": {},
  "kernelspec": {
   "display_name": "Python 2",
   "language": "python",
   "name": "python2"
  },
  "language_info": {
   "codemirror_mode": {
    "name": "ipython",
    "version": 2
   },
   "file_extension": ".py",
   "mimetype": "text/x-python",
   "name": "python",
   "nbconvert_exporter": "python",
   "pygments_lexer": "ipython2",
   "version": "2.7.13"
  }
 },
 "nbformat": 4,
 "nbformat_minor": 2
}
